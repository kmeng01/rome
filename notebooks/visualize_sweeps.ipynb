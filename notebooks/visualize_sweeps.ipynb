{
 "cells": [
  {
   "cell_type": "markdown",
   "id": "6ceb1324",
   "metadata": {},
   "source": [
    "**WARNING!!** script is not cleaned yet. do not use :)"
   ]
  },
  {
   "cell_type": "code",
   "execution_count": null,
   "id": "de369d3c",
   "metadata": {},
   "outputs": [],
   "source": [
    "%load_ext autoreload\n",
    "%autoreload 2"
   ]
  },
  {
   "cell_type": "code",
   "execution_count": null,
   "id": "8af77d29",
   "metadata": {},
   "outputs": [],
   "source": [
    "import numpy as np\n",
    "import matplotlib.pyplot as plt\n",
    "from experiments.summarize import main"
   ]
  },
  {
   "cell_type": "code",
   "execution_count": null,
   "id": "1defaeb5",
   "metadata": {},
   "outputs": [],
   "source": [
    "DIR_NAME = \"sweeps\"\n",
    "# DIR_NAME = \".\""
   ]
  },
  {
   "cell_type": "code",
   "execution_count": null,
   "id": "28a532fb",
   "metadata": {},
   "outputs": [],
   "source": [
    "SWEEP_DATA = {\n",
    "    \"FT_layers_sweep_0\": \"FT on GPT-2 XL, $\\epsilon=5e-3$\",\n",
    "    \"FT_layers_sweep_1\": \"FT on GPT-2 XL, $\\epsilon=1e-3$\",\n",
    "    \"FT_layers_sweep_2\": \"FT on GPT-2 XL, $\\epsilon=5e-4$\",\n",
    "    \"FT_layers_sweep_3\": \"FT on GPT-2 XL, Unconstrained\",\n",
    "}\n",
    "\n",
    "# SWEEP_DATA = {\n",
    "#     \"FT_layers_sweep_4\": \"FT on GPT-J, $\\epsilon=1e-3$\",\n",
    "#     \"FT_layers_sweep_5\": \"FT on GPT-J, $\\epsilon=5e-5$\",\n",
    "#     \"FT_layers_sweep_6\": \"FT on GPT-J, $\\epsilon=1e-4$\",\n",
    "#     \"FT_layers_sweep_7\": \"FT on GPT-J, Unconstrained\",\n",
    "# }\n",
    "\n",
    "# SWEEP_DATA = {\n",
    "#     \"FT_norm_constraint_sweep_0\": \"FT+L Attn Norm Constraint Sweep\",\n",
    "# }\n",
    "\n",
    "SWEEP_DATA = {\n",
    "    \"ROME_layers_sweep_0\": \"ROME on GPT-2 XL\",\n",
    "#     \"ROME_layers_sweep_GPTJ\": \"ROME on GPT-J\",\n",
    "}"
   ]
  },
  {
   "cell_type": "code",
   "execution_count": null,
   "id": "f81d4b8e",
   "metadata": {
    "scrolled": false
   },
   "outputs": [],
   "source": [
    "data = [main(dir_name=f\"{DIR_NAME}/{k}\", runs=None) for k in SWEEP_DATA.keys()]\n",
    "for i in range(len(data)):\n",
    "    data[i].sort(key=lambda x: x[\"run_dir\"])"
   ]
  },
  {
   "cell_type": "code",
   "execution_count": null,
   "id": "85e2ba98",
   "metadata": {},
   "outputs": [],
   "source": [
    "# plt.rcParams[\"figure.figsize\"] = ((4, 3))\n",
    "plt.rcParams[\"figure.dpi\"] = 200\n",
    "plt.rcParams[\"font.family\"] = \"Times New Roman\"\n",
    "\n",
    "SMALL_SIZE = 14\n",
    "MEDIUM_SIZE = 14\n",
    "BIGGER_SIZE = 14\n",
    "\n",
    "plt.rc('font', size=SMALL_SIZE)          # controls default text sizes\n",
    "plt.rc('axes', titlesize=BIGGER_SIZE)     # fontsize of the axes title\n",
    "plt.rc('axes', labelsize=MEDIUM_SIZE)    # fontsize of the x and y labels\n",
    "plt.rc('xtick', labelsize=SMALL_SIZE)    # fontsize of the tick labels\n",
    "plt.rc('ytick', labelsize=SMALL_SIZE)    # fontsize of the tick labels\n",
    "plt.rc('legend', fontsize=SMALL_SIZE)    # legend fontsize\n",
    "plt.rc('figure', titlesize=BIGGER_SIZE)  # fontsize of the figure title\n",
    "\n"
   ]
  },
  {
   "cell_type": "code",
   "execution_count": null,
   "id": "7c4985be",
   "metadata": {},
   "outputs": [],
   "source": [
    "NAMES = {\n",
    "    \"post_rewrite_success\": \"Rewrite Score\",\n",
    "    \"post_paraphrase_success\": \"Paraphrase Score\",\n",
    "    \"post_neighborhood_success\": \"Neighborh. Score\",\n",
    "    \"post_rewrite_diff\": \"Rewrite Magni.\",\n",
    "    \"post_paraphrase_diff\": \"Paraphrase Magni.\",\n",
    "    \"post_neighborhood_diff\": \"Neighborh. Magni.\",\n",
    "}"
   ]
  },
  {
   "cell_type": "code",
   "execution_count": null,
   "id": "3fa3124e",
   "metadata": {
    "scrolled": false
   },
   "outputs": [],
   "source": [
    "def do_stuff(keys, xlim=None, ylim=None):\n",
    "    n = len(data)\n",
    "    plt.figure(figsize=(len(data) * 4, 2.25))\n",
    "    for i, cur in enumerate(data):\n",
    "        plt.subplot(1, n, i + 1)\n",
    "        \n",
    "#         colors = plt.cm.get_cmap(\"gist_rainbow\")(np.linspace(0, 1, len(keys)))\n",
    "        colors = None\n",
    "        \n",
    "        for j, key in enumerate(keys):\n",
    "            plt.plot([j for j in range(len(cur))], [run[key][0] for run in cur], label=NAMES[key],\n",
    "                     color=(colors[j] if colors else None))\n",
    "            plt.xlabel(\"Layer\")\n",
    "            plt.title(SWEEP_DATA[cur[0][\"run_dir\"].split(\"/\")[-2]])\n",
    "        \n",
    "        if i == len(data) - 1:\n",
    "            plt.legend(loc=4, prop={'size': 10}, framealpha=0.5)\n",
    "        \n",
    "        plt.xlim(xlim)\n",
    "        plt.ylim(ylim)\n",
    "        \n",
    "#         plt.xticks(np.arange(0, len(cur), 5))\n",
    "#         plt.xticks(np.arange(0, len(cur), 5), minor=True)\n",
    "#         plt.yticks(np.arange(0, 100, 20))\n",
    "#         plt.yticks(minor_ticks, minor=True)\n",
    "        \n",
    "        plt.grid(True, color=\"#93a1a1\", alpha=0.3)\n",
    "    \n",
    "    plt.savefig('tmp_plot.pdf')\n",
    "    plt.show()\n",
    "    \n",
    "do_stuff([\"post_rewrite_success\", \"post_paraphrase_success\", \"post_neighborhood_success\"], ylim=(0, 105))\n",
    "do_stuff([\"post_rewrite_diff\", \"post_paraphrase_diff\", \"post_neighborhood_diff\"], ylim=(-50, 105))\n",
    "# do_stuff([\"post_neighborhood_diff\"])"
   ]
  },
  {
   "cell_type": "code",
   "execution_count": null,
   "id": "8e1a789b",
   "metadata": {
    "scrolled": true
   },
   "outputs": [],
   "source": [
    "def do_stuff(lkeys):\n",
    "    n = len(lkeys)\n",
    "    plt.figure(figsize=(n * 4, 2.25))\n",
    "    for i, keys in enumerate(lkeys):\n",
    "        plt.subplot(1, n, i + 1)\n",
    "        \n",
    "        for key in keys:\n",
    "            plt.plot([5e-4,6e-4,7e-4,8e-4,9e-4,1e-3,2e-3,3e-3,4e-3,5e-3], [run[key][0] for run in data[0]],\n",
    "                     label=NAMES[key])\n",
    "            plt.xlabel(\"$\\epsilon$\")\n",
    "            plt.xticks(0.001 * np.arange(1, 6))\n",
    "            plt.title(SWEEP_DATA[data[0][0][\"run_dir\"].split(\"/\")[-2]])\n",
    "        \n",
    "#         if i == 0:\n",
    "            plt.legend(loc=4, prop={'size': 10}, framealpha=0.5)\n",
    "        plt.grid(True, color=\"#93a1a1\", alpha=0.3)\n",
    "    \n",
    "    plt.savefig('tmp_plot.pdf')\n",
    "    plt.show()\n",
    "\n",
    "do_stuff([\n",
    "    [\"post_rewrite_success\", \"post_paraphrase_success\", \"post_neighborhood_success\"],\n",
    "    [\"post_rewrite_diff\", \"post_paraphrase_diff\", \"post_neighborhood_diff\"]\n",
    "])"
   ]
  },
  {
   "cell_type": "code",
   "execution_count": null,
   "id": "4122682a",
   "metadata": {},
   "outputs": [],
   "source": []
  },
  {
   "cell_type": "code",
   "execution_count": null,
   "id": "0dce80c5",
   "metadata": {},
   "outputs": [],
   "source": []
  }
 ],
 "metadata": {
  "kernelspec": {
   "display_name": "Python 3 (ipykernel)",
   "language": "python",
   "name": "python3"
  },
  "language_info": {
   "codemirror_mode": {
    "name": "ipython",
    "version": 3
   },
   "file_extension": ".py",
   "mimetype": "text/x-python",
   "name": "python",
   "nbconvert_exporter": "python",
   "pygments_lexer": "ipython3",
   "version": "3.9.7"
  }
 },
 "nbformat": 4,
 "nbformat_minor": 5
}
